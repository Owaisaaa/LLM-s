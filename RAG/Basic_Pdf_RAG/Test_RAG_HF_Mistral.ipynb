{
 "cells": [
  {
   "cell_type": "code",
   "execution_count": 1,
   "id": "e0796b10",
   "metadata": {},
   "outputs": [
    {
     "name": "stdout",
     "output_type": "stream",
     "text": [
      "Defaulting to user installation because normal site-packages is not writeable\n",
      "Requirement already satisfied: chromadb in /home/owais031/.local/lib/python3.8/site-packages (0.5.23)\n",
      "Requirement already satisfied: langchain in /home/owais031/.local/lib/python3.8/site-packages (0.2.17)\n",
      "Collecting langchain_community\n",
      "  Downloading langchain_community-0.2.19-py3-none-any.whl.metadata (2.7 kB)\n",
      "Requirement already satisfied: build>=1.0.3 in /home/owais031/.local/lib/python3.8/site-packages (from chromadb) (1.2.2.post1)\n",
      "Requirement already satisfied: pydantic>=1.9 in /home/owais031/.local/lib/python3.8/site-packages (from chromadb) (2.10.6)\n",
      "Requirement already satisfied: chroma-hnswlib==0.7.6 in /home/owais031/.local/lib/python3.8/site-packages (from chromadb) (0.7.6)\n",
      "Requirement already satisfied: fastapi>=0.95.2 in /home/owais031/.local/lib/python3.8/site-packages (from chromadb) (0.115.12)\n",
      "Requirement already satisfied: uvicorn>=0.18.3 in /home/owais031/.local/lib/python3.8/site-packages (from uvicorn[standard]>=0.18.3->chromadb) (0.33.0)\n",
      "Requirement already satisfied: numpy>=1.22.5 in /home/owais031/.local/lib/python3.8/site-packages (from chromadb) (1.24.4)\n",
      "Requirement already satisfied: posthog>=2.4.0 in /home/owais031/.local/lib/python3.8/site-packages (from chromadb) (3.21.0)\n",
      "Requirement already satisfied: typing_extensions>=4.5.0 in /home/owais031/.local/lib/python3.8/site-packages (from chromadb) (4.13.0)\n",
      "Requirement already satisfied: onnxruntime>=1.14.1 in /home/owais031/.local/lib/python3.8/site-packages (from chromadb) (1.19.2)\n",
      "Requirement already satisfied: opentelemetry-api>=1.2.0 in /home/owais031/.local/lib/python3.8/site-packages (from chromadb) (1.31.1)\n",
      "Requirement already satisfied: opentelemetry-exporter-otlp-proto-grpc>=1.2.0 in /home/owais031/.local/lib/python3.8/site-packages (from chromadb) (1.31.1)\n",
      "Requirement already satisfied: opentelemetry-instrumentation-fastapi>=0.41b0 in /home/owais031/.local/lib/python3.8/site-packages (from chromadb) (0.52b1)\n",
      "Requirement already satisfied: opentelemetry-sdk>=1.2.0 in /home/owais031/.local/lib/python3.8/site-packages (from chromadb) (1.31.1)\n",
      "Requirement already satisfied: tokenizers<=0.20.3,>=0.13.2 in /home/owais031/.local/lib/python3.8/site-packages (from chromadb) (0.20.3)\n",
      "Requirement already satisfied: pypika>=0.48.9 in /home/owais031/.local/lib/python3.8/site-packages (from chromadb) (0.48.9)\n",
      "Requirement already satisfied: tqdm>=4.65.0 in /home/owais031/.local/lib/python3.8/site-packages (from chromadb) (4.67.1)\n",
      "Requirement already satisfied: overrides>=7.3.1 in /home/owais031/.local/lib/python3.8/site-packages (from chromadb) (7.7.0)\n",
      "Requirement already satisfied: importlib-resources in /home/owais031/.local/lib/python3.8/site-packages (from chromadb) (6.4.5)\n",
      "Requirement already satisfied: graphlib_backport>=1.0.3 in /home/owais031/.local/lib/python3.8/site-packages (from chromadb) (1.1.0)\n",
      "Requirement already satisfied: grpcio>=1.58.0 in /home/owais031/.local/lib/python3.8/site-packages (from chromadb) (1.70.0)\n",
      "Requirement already satisfied: bcrypt>=4.0.1 in /home/owais031/.local/lib/python3.8/site-packages (from chromadb) (4.3.0)\n",
      "Requirement already satisfied: typer>=0.9.0 in /home/owais031/.local/lib/python3.8/site-packages (from chromadb) (0.15.2)\n",
      "Requirement already satisfied: kubernetes>=28.1.0 in /home/owais031/.local/lib/python3.8/site-packages (from chromadb) (32.0.1)\n",
      "Requirement already satisfied: tenacity>=8.2.3 in /home/owais031/.local/lib/python3.8/site-packages (from chromadb) (8.5.0)\n",
      "Requirement already satisfied: PyYAML>=6.0.0 in /opt/apps/anaconda3/2020.11/lib/python3.8/site-packages (from chromadb) (6.0)\n",
      "Requirement already satisfied: mmh3>=4.0.1 in /home/owais031/.local/lib/python3.8/site-packages (from chromadb) (5.0.1)\n",
      "Requirement already satisfied: orjson>=3.9.12 in /home/owais031/.local/lib/python3.8/site-packages (from chromadb) (3.10.15)\n",
      "Requirement already satisfied: httpx>=0.27.0 in /home/owais031/.local/lib/python3.8/site-packages (from chromadb) (0.28.1)\n",
      "Requirement already satisfied: rich>=10.11.0 in /opt/apps/anaconda3/2020.11/lib/python3.8/site-packages (from chromadb) (12.2.0)\n",
      "Requirement already satisfied: SQLAlchemy<3,>=1.4 in /opt/apps/anaconda3/2020.11/lib/python3.8/site-packages (from langchain) (1.4.27)\n",
      "Requirement already satisfied: aiohttp<4.0.0,>=3.8.3 in /home/owais031/.local/lib/python3.8/site-packages (from langchain) (3.10.11)\n",
      "Requirement already satisfied: async-timeout<5.0.0,>=4.0.0 in /opt/apps/anaconda3/2020.11/lib/python3.8/site-packages (from langchain) (4.0.1)\n",
      "Requirement already satisfied: langchain-core<0.3.0,>=0.2.43 in /home/owais031/.local/lib/python3.8/site-packages (from langchain) (0.2.43)\n",
      "Requirement already satisfied: langchain-text-splitters<0.3.0,>=0.2.0 in /home/owais031/.local/lib/python3.8/site-packages (from langchain) (0.2.4)\n",
      "Requirement already satisfied: langsmith<0.2.0,>=0.1.17 in /home/owais031/.local/lib/python3.8/site-packages (from langchain) (0.1.147)\n",
      "Requirement already satisfied: requests<3,>=2 in /opt/apps/anaconda3/2020.11/lib/python3.8/site-packages (from langchain) (2.27.1)\n",
      "Collecting dataclasses-json<0.7,>=0.5.7 (from langchain_community)\n",
      "  Downloading dataclasses_json-0.6.7-py3-none-any.whl.metadata (25 kB)\n",
      "Requirement already satisfied: aiohappyeyeballs>=2.3.0 in /home/owais031/.local/lib/python3.8/site-packages (from aiohttp<4.0.0,>=3.8.3->langchain) (2.4.4)\n",
      "Requirement already satisfied: aiosignal>=1.1.2 in /opt/apps/anaconda3/2020.11/lib/python3.8/site-packages (from aiohttp<4.0.0,>=3.8.3->langchain) (1.2.0)\n",
      "Requirement already satisfied: attrs>=17.3.0 in /opt/apps/anaconda3/2020.11/lib/python3.8/site-packages (from aiohttp<4.0.0,>=3.8.3->langchain) (21.4.0)\n",
      "Requirement already satisfied: frozenlist>=1.1.1 in /opt/apps/anaconda3/2020.11/lib/python3.8/site-packages (from aiohttp<4.0.0,>=3.8.3->langchain) (1.2.0)\n",
      "Requirement already satisfied: multidict<7.0,>=4.5 in /opt/apps/anaconda3/2020.11/lib/python3.8/site-packages (from aiohttp<4.0.0,>=3.8.3->langchain) (5.2.0)\n",
      "Requirement already satisfied: yarl<2.0,>=1.12.0 in /home/owais031/.local/lib/python3.8/site-packages (from aiohttp<4.0.0,>=3.8.3->langchain) (1.15.2)\n",
      "Requirement already satisfied: packaging>=19.1 in /home/owais031/.local/lib/python3.8/site-packages (from build>=1.0.3->chromadb) (24.2)\n",
      "Requirement already satisfied: pyproject_hooks in /home/owais031/.local/lib/python3.8/site-packages (from build>=1.0.3->chromadb) (1.2.0)\n",
      "Requirement already satisfied: importlib-metadata>=4.6 in /home/owais031/.local/lib/python3.8/site-packages (from build>=1.0.3->chromadb) (8.5.0)\n",
      "Requirement already satisfied: tomli>=1.1.0 in /home/owais031/.local/lib/python3.8/site-packages (from build>=1.0.3->chromadb) (2.2.1)\n",
      "Collecting marshmallow<4.0.0,>=3.18.0 (from dataclasses-json<0.7,>=0.5.7->langchain_community)\n",
      "  Downloading marshmallow-3.22.0-py3-none-any.whl.metadata (7.2 kB)\n",
      "Collecting typing-inspect<1,>=0.4.0 (from dataclasses-json<0.7,>=0.5.7->langchain_community)\n",
      "  Downloading typing_inspect-0.9.0-py3-none-any.whl.metadata (1.5 kB)\n",
      "Requirement already satisfied: starlette<0.47.0,>=0.40.0 in /home/owais031/.local/lib/python3.8/site-packages (from fastapi>=0.95.2->chromadb) (0.44.0)\n",
      "Requirement already satisfied: anyio in /opt/apps/anaconda3/2020.11/lib/python3.8/site-packages (from httpx>=0.27.0->chromadb) (3.5.0)\n",
      "Requirement already satisfied: certifi in /opt/apps/anaconda3/2020.11/lib/python3.8/site-packages (from httpx>=0.27.0->chromadb) (2021.10.8)\n",
      "Requirement already satisfied: httpcore==1.* in /home/owais031/.local/lib/python3.8/site-packages (from httpx>=0.27.0->chromadb) (1.0.7)\n",
      "Requirement already satisfied: idna in /opt/apps/anaconda3/2020.11/lib/python3.8/site-packages (from httpx>=0.27.0->chromadb) (3.3)\n",
      "Requirement already satisfied: h11<0.15,>=0.13 in /home/owais031/.local/lib/python3.8/site-packages (from httpcore==1.*->httpx>=0.27.0->chromadb) (0.14.0)\n",
      "Requirement already satisfied: six>=1.9.0 in /opt/apps/anaconda3/2020.11/lib/python3.8/site-packages (from kubernetes>=28.1.0->chromadb) (1.16.0)\n",
      "Requirement already satisfied: python-dateutil>=2.5.3 in /opt/apps/anaconda3/2020.11/lib/python3.8/site-packages (from kubernetes>=28.1.0->chromadb) (2.8.2)\n",
      "Requirement already satisfied: google-auth>=1.0.1 in /opt/apps/anaconda3/2020.11/lib/python3.8/site-packages (from kubernetes>=28.1.0->chromadb) (2.17.2)\n",
      "Requirement already satisfied: websocket-client!=0.40.0,!=0.41.*,!=0.42.*,>=0.32.0 in /opt/apps/anaconda3/2020.11/lib/python3.8/site-packages (from kubernetes>=28.1.0->chromadb) (0.58.0)\n",
      "Requirement already satisfied: requests-oauthlib in /opt/apps/anaconda3/2020.11/lib/python3.8/site-packages (from kubernetes>=28.1.0->chromadb) (1.3.1)\n",
      "Requirement already satisfied: oauthlib>=3.2.2 in /home/owais031/.local/lib/python3.8/site-packages (from kubernetes>=28.1.0->chromadb) (3.2.2)\n",
      "Requirement already satisfied: urllib3>=1.24.2 in /opt/apps/anaconda3/2020.11/lib/python3.8/site-packages (from kubernetes>=28.1.0->chromadb) (1.26.15)\n",
      "Requirement already satisfied: durationpy>=0.7 in /home/owais031/.local/lib/python3.8/site-packages (from kubernetes>=28.1.0->chromadb) (0.9)\n",
      "Requirement already satisfied: jsonpatch<2.0,>=1.33 in /home/owais031/.local/lib/python3.8/site-packages (from langchain-core<0.3.0,>=0.2.43->langchain) (1.33)\n",
      "Requirement already satisfied: requests-toolbelt<2.0.0,>=1.0.0 in /home/owais031/.local/lib/python3.8/site-packages (from langsmith<0.2.0,>=0.1.17->langchain) (1.0.0)\n",
      "Requirement already satisfied: coloredlogs in /home/owais031/.local/lib/python3.8/site-packages (from onnxruntime>=1.14.1->chromadb) (15.0.1)\n",
      "Requirement already satisfied: flatbuffers in /opt/apps/anaconda3/2020.11/lib/python3.8/site-packages (from onnxruntime>=1.14.1->chromadb) (22.10.26)\n",
      "Requirement already satisfied: protobuf in /home/owais031/.local/lib/python3.8/site-packages (from onnxruntime>=1.14.1->chromadb) (5.29.4)\n",
      "Requirement already satisfied: sympy in /opt/apps/anaconda3/2020.11/lib/python3.8/site-packages (from onnxruntime>=1.14.1->chromadb) (1.9)\n",
      "Requirement already satisfied: deprecated>=1.2.6 in /home/owais031/.local/lib/python3.8/site-packages (from opentelemetry-api>=1.2.0->chromadb) (1.2.18)\n"
     ]
    },
    {
     "name": "stdout",
     "output_type": "stream",
     "text": [
      "Requirement already satisfied: googleapis-common-protos~=1.52 in /home/owais031/.local/lib/python3.8/site-packages (from opentelemetry-exporter-otlp-proto-grpc>=1.2.0->chromadb) (1.69.2)\n",
      "Requirement already satisfied: opentelemetry-exporter-otlp-proto-common==1.31.1 in /home/owais031/.local/lib/python3.8/site-packages (from opentelemetry-exporter-otlp-proto-grpc>=1.2.0->chromadb) (1.31.1)\n",
      "Requirement already satisfied: opentelemetry-proto==1.31.1 in /home/owais031/.local/lib/python3.8/site-packages (from opentelemetry-exporter-otlp-proto-grpc>=1.2.0->chromadb) (1.31.1)\n",
      "Requirement already satisfied: opentelemetry-instrumentation-asgi==0.52b1 in /home/owais031/.local/lib/python3.8/site-packages (from opentelemetry-instrumentation-fastapi>=0.41b0->chromadb) (0.52b1)\n",
      "Requirement already satisfied: opentelemetry-instrumentation==0.52b1 in /home/owais031/.local/lib/python3.8/site-packages (from opentelemetry-instrumentation-fastapi>=0.41b0->chromadb) (0.52b1)\n",
      "Requirement already satisfied: opentelemetry-semantic-conventions==0.52b1 in /home/owais031/.local/lib/python3.8/site-packages (from opentelemetry-instrumentation-fastapi>=0.41b0->chromadb) (0.52b1)\n",
      "Requirement already satisfied: opentelemetry-util-http==0.52b1 in /home/owais031/.local/lib/python3.8/site-packages (from opentelemetry-instrumentation-fastapi>=0.41b0->chromadb) (0.52b1)\n",
      "Requirement already satisfied: wrapt<2.0.0,>=1.0.0 in /opt/apps/anaconda3/2020.11/lib/python3.8/site-packages (from opentelemetry-instrumentation==0.52b1->opentelemetry-instrumentation-fastapi>=0.41b0->chromadb) (1.14.0)\n",
      "Requirement already satisfied: asgiref~=3.0 in /home/owais031/.local/lib/python3.8/site-packages (from opentelemetry-instrumentation-asgi==0.52b1->opentelemetry-instrumentation-fastapi>=0.41b0->chromadb) (3.8.1)\n",
      "Requirement already satisfied: monotonic>=1.5 in /home/owais031/.local/lib/python3.8/site-packages (from posthog>=2.4.0->chromadb) (1.6)\n",
      "Requirement already satisfied: backoff>=1.10.0 in /home/owais031/.local/lib/python3.8/site-packages (from posthog>=2.4.0->chromadb) (2.2.1)\n",
      "Requirement already satisfied: distro>=1.5.0 in /home/owais031/.local/lib/python3.8/site-packages (from posthog>=2.4.0->chromadb) (1.9.0)\n",
      "Requirement already satisfied: annotated-types>=0.6.0 in /home/owais031/.local/lib/python3.8/site-packages (from pydantic>=1.9->chromadb) (0.7.0)\n",
      "Requirement already satisfied: pydantic-core==2.27.2 in /home/owais031/.local/lib/python3.8/site-packages (from pydantic>=1.9->chromadb) (2.27.2)\n",
      "Requirement already satisfied: charset-normalizer~=2.0.0 in /opt/apps/anaconda3/2020.11/lib/python3.8/site-packages (from requests<3,>=2->langchain) (2.0.12)\n",
      "Requirement already satisfied: commonmark<0.10.0,>=0.9.0 in /opt/apps/anaconda3/2020.11/lib/python3.8/site-packages (from rich>=10.11.0->chromadb) (0.9.1)\n",
      "Requirement already satisfied: pygments<3.0.0,>=2.6.0 in /opt/apps/anaconda3/2020.11/lib/python3.8/site-packages (from rich>=10.11.0->chromadb) (2.11.2)\n",
      "Requirement already satisfied: greenlet!=0.4.17 in /opt/apps/anaconda3/2020.11/lib/python3.8/site-packages (from SQLAlchemy<3,>=1.4->langchain) (1.1.1)\n",
      "Requirement already satisfied: huggingface-hub<1.0,>=0.16.4 in /home/owais031/.local/lib/python3.8/site-packages (from tokenizers<=0.20.3,>=0.13.2->chromadb) (0.29.3)\n",
      "Requirement already satisfied: click>=8.0.0 in /opt/apps/anaconda3/2020.11/lib/python3.8/site-packages (from typer>=0.9.0->chromadb) (8.0.3)\n",
      "Requirement already satisfied: shellingham>=1.3.0 in /home/owais031/.local/lib/python3.8/site-packages (from typer>=0.9.0->chromadb) (1.5.4)\n",
      "Requirement already satisfied: httptools>=0.6.3 in /home/owais031/.local/lib/python3.8/site-packages (from uvicorn[standard]>=0.18.3->chromadb) (0.6.4)\n",
      "Requirement already satisfied: python-dotenv>=0.13 in /home/owais031/.local/lib/python3.8/site-packages (from uvicorn[standard]>=0.18.3->chromadb) (1.0.1)\n",
      "Requirement already satisfied: uvloop!=0.15.0,!=0.15.1,>=0.14.0 in /home/owais031/.local/lib/python3.8/site-packages (from uvicorn[standard]>=0.18.3->chromadb) (0.21.0)\n",
      "Requirement already satisfied: watchfiles>=0.13 in /home/owais031/.local/lib/python3.8/site-packages (from uvicorn[standard]>=0.18.3->chromadb) (0.24.0)\n",
      "Requirement already satisfied: websockets>=10.4 in /home/owais031/.local/lib/python3.8/site-packages (from uvicorn[standard]>=0.18.3->chromadb) (13.1)\n",
      "Requirement already satisfied: zipp>=3.1.0 in /home/owais031/.local/lib/python3.8/site-packages (from importlib-resources->chromadb) (3.20.2)\n",
      "Requirement already satisfied: cachetools<6.0,>=2.0.0 in /opt/apps/anaconda3/2020.11/lib/python3.8/site-packages (from google-auth>=1.0.1->kubernetes>=28.1.0->chromadb) (4.2.1)\n",
      "Requirement already satisfied: pyasn1-modules>=0.2.1 in /opt/apps/anaconda3/2020.11/lib/python3.8/site-packages (from google-auth>=1.0.1->kubernetes>=28.1.0->chromadb) (0.2.8)\n",
      "Requirement already satisfied: rsa<5,>=3.1.4 in /opt/apps/anaconda3/2020.11/lib/python3.8/site-packages (from google-auth>=1.0.1->kubernetes>=28.1.0->chromadb) (4.8)\n",
      "Requirement already satisfied: filelock in /opt/apps/anaconda3/2020.11/lib/python3.8/site-packages (from huggingface-hub<1.0,>=0.16.4->tokenizers<=0.20.3,>=0.13.2->chromadb) (3.4.2)\n",
      "Requirement already satisfied: fsspec>=2023.5.0 in /home/owais031/.local/lib/python3.8/site-packages (from huggingface-hub<1.0,>=0.16.4->tokenizers<=0.20.3,>=0.13.2->chromadb) (2025.3.0)\n",
      "Requirement already satisfied: jsonpointer>=1.9 in /home/owais031/.local/lib/python3.8/site-packages (from jsonpatch<2.0,>=1.33->langchain-core<0.3.0,>=0.2.43->langchain) (3.0.0)\n",
      "Requirement already satisfied: sniffio>=1.1 in /opt/apps/anaconda3/2020.11/lib/python3.8/site-packages (from anyio->httpx>=0.27.0->chromadb) (1.2.0)\n",
      "Requirement already satisfied: mypy-extensions>=0.3.0 in /opt/apps/anaconda3/2020.11/lib/python3.8/site-packages (from typing-inspect<1,>=0.4.0->dataclasses-json<0.7,>=0.5.7->langchain_community) (0.4.3)\n",
      "Requirement already satisfied: propcache>=0.2.0 in /home/owais031/.local/lib/python3.8/site-packages (from yarl<2.0,>=1.12.0->aiohttp<4.0.0,>=3.8.3->langchain) (0.2.0)\n",
      "Requirement already satisfied: humanfriendly>=9.1 in /home/owais031/.local/lib/python3.8/site-packages (from coloredlogs->onnxruntime>=1.14.1->chromadb) (10.0)\n",
      "Requirement already satisfied: mpmath>=0.19 in /opt/apps/anaconda3/2020.11/lib/python3.8/site-packages (from sympy->onnxruntime>=1.14.1->chromadb) (1.2.1)\n",
      "Requirement already satisfied: pyasn1<0.5.0,>=0.4.6 in /opt/apps/anaconda3/2020.11/lib/python3.8/site-packages (from pyasn1-modules>=0.2.1->google-auth>=1.0.1->kubernetes>=28.1.0->chromadb) (0.4.8)\n",
      "Downloading langchain_community-0.2.19-py3-none-any.whl (2.3 MB)\n",
      "\u001b[2K   \u001b[90m━━━━━━━━━━━━━━━━━━━━━━━━━━━━━━━━━━━━━━━━\u001b[0m \u001b[32m2.3/2.3 MB\u001b[0m \u001b[31m9.7 MB/s\u001b[0m eta \u001b[36m0:00:00\u001b[0mta \u001b[36m0:00:01\u001b[0m\n",
      "\u001b[?25hDownloading dataclasses_json-0.6.7-py3-none-any.whl (28 kB)\n",
      "Downloading marshmallow-3.22.0-py3-none-any.whl (49 kB)\n",
      "\u001b[2K   \u001b[90m━━━━━━━━━━━━━━━━━━━━━━━━━━━━━━━━━━━━━━━━\u001b[0m \u001b[32m49.3/49.3 kB\u001b[0m \u001b[31m2.7 MB/s\u001b[0m eta \u001b[36m0:00:00\u001b[0m\n",
      "\u001b[?25hDownloading typing_inspect-0.9.0-py3-none-any.whl (8.8 kB)\n",
      "Installing collected packages: typing-inspect, marshmallow, dataclasses-json, langchain_community\n",
      "Successfully installed dataclasses-json-0.6.7 langchain_community-0.2.19 marshmallow-3.22.0 typing-inspect-0.9.0\n",
      "\n",
      "\u001b[1m[\u001b[0m\u001b[34;49mnotice\u001b[0m\u001b[1;39;49m]\u001b[0m\u001b[39;49m A new release of pip is available: \u001b[0m\u001b[31;49m24.1.2\u001b[0m\u001b[39;49m -> \u001b[0m\u001b[32;49m25.0.1\u001b[0m\n",
      "\u001b[1m[\u001b[0m\u001b[34;49mnotice\u001b[0m\u001b[1;39;49m]\u001b[0m\u001b[39;49m To update, run: \u001b[0m\u001b[32;49mpip install --upgrade pip\u001b[0m\n"
     ]
    }
   ],
   "source": [
    "!pip install chromadb langchain langchain_community"
   ]
  },
  {
   "cell_type": "code",
   "execution_count": 5,
   "id": "15b5fc1b",
   "metadata": {
    "collapsed": true
   },
   "outputs": [
    {
     "name": "stdout",
     "output_type": "stream",
     "text": [
      "Defaulting to user installation because normal site-packages is not writeable\n",
      "Requirement already satisfied: langchain_text_splitters in /home/owais031/.local/lib/python3.8/site-packages (0.2.4)\n",
      "Requirement already satisfied: pydantic in /home/owais031/.local/lib/python3.8/site-packages (2.10.6)\n",
      "Collecting langchain-ollama\n",
      "  Downloading langchain_ollama-0.1.3-py3-none-any.whl.metadata (1.8 kB)\n",
      "Requirement already satisfied: pypdf in /home/owais031/.local/lib/python3.8/site-packages (5.4.0)\n",
      "Collecting gradio\n",
      "  Downloading gradio-4.44.1-py3-none-any.whl.metadata (15 kB)\n",
      "Requirement already satisfied: Markdown in /opt/apps/anaconda3/2020.11/lib/python3.8/site-packages (3.3.6)\n",
      "Requirement already satisfied: langchain-core<0.3.0,>=0.2.38 in /home/owais031/.local/lib/python3.8/site-packages (from langchain_text_splitters) (0.2.43)\n",
      "Requirement already satisfied: annotated-types>=0.6.0 in /home/owais031/.local/lib/python3.8/site-packages (from pydantic) (0.7.0)\n",
      "Requirement already satisfied: pydantic-core==2.27.2 in /home/owais031/.local/lib/python3.8/site-packages (from pydantic) (2.27.2)\n",
      "Requirement already satisfied: typing-extensions>=4.12.2 in /home/owais031/.local/lib/python3.8/site-packages (from pydantic) (4.13.0)\n",
      "Requirement already satisfied: ollama<1,>=0.3.0 in /home/owais031/.local/lib/python3.8/site-packages (from langchain-ollama) (0.4.7)\n",
      "Collecting aiofiles<24.0,>=22.0 (from gradio)\n",
      "  Downloading aiofiles-23.2.1-py3-none-any.whl.metadata (9.7 kB)\n",
      "Requirement already satisfied: anyio<5.0,>=3.0 in /opt/apps/anaconda3/2020.11/lib/python3.8/site-packages (from gradio) (3.5.0)\n",
      "Requirement already satisfied: fastapi<1.0 in /home/owais031/.local/lib/python3.8/site-packages (from gradio) (0.115.12)\n",
      "Collecting ffmpy (from gradio)\n",
      "  Downloading ffmpy-0.5.0-py3-none-any.whl.metadata (3.0 kB)\n",
      "Collecting gradio-client==1.3.0 (from gradio)\n",
      "  Downloading gradio_client-1.3.0-py3-none-any.whl.metadata (7.1 kB)\n",
      "Requirement already satisfied: httpx>=0.24.1 in /home/owais031/.local/lib/python3.8/site-packages (from gradio) (0.28.1)\n",
      "Requirement already satisfied: huggingface-hub>=0.19.3 in /home/owais031/.local/lib/python3.8/site-packages (from gradio) (0.29.3)\n",
      "Requirement already satisfied: importlib-resources<7.0,>=1.3 in /home/owais031/.local/lib/python3.8/site-packages (from gradio) (6.4.5)\n",
      "Requirement already satisfied: jinja2<4.0 in /opt/apps/anaconda3/2020.11/lib/python3.8/site-packages (from gradio) (3.1.2)\n",
      "Requirement already satisfied: markupsafe~=2.0 in /home/owais031/.local/lib/python3.8/site-packages (from gradio) (2.1.5)\n",
      "Requirement already satisfied: matplotlib~=3.0 in /opt/apps/anaconda3/2020.11/lib/python3.8/site-packages (from gradio) (3.5.1)\n",
      "Requirement already satisfied: numpy<3.0,>=1.0 in /home/owais031/.local/lib/python3.8/site-packages (from gradio) (1.24.4)\n",
      "Requirement already satisfied: orjson~=3.0 in /home/owais031/.local/lib/python3.8/site-packages (from gradio) (3.10.15)\n",
      "Requirement already satisfied: packaging in /home/owais031/.local/lib/python3.8/site-packages (from gradio) (24.2)\n",
      "Requirement already satisfied: pandas<3.0,>=1.0 in /opt/apps/anaconda3/2020.11/lib/python3.8/site-packages (from gradio) (1.4.1)\n",
      "Requirement already satisfied: pillow<11.0,>=8.0 in /opt/apps/anaconda3/2020.11/lib/python3.8/site-packages (from gradio) (8.4.0)\n",
      "Collecting pydub (from gradio)\n",
      "  Downloading pydub-0.25.1-py2.py3-none-any.whl.metadata (1.4 kB)\n",
      "Collecting python-multipart>=0.0.9 (from gradio)\n",
      "  Downloading python_multipart-0.0.20-py3-none-any.whl.metadata (1.8 kB)\n",
      "Requirement already satisfied: pyyaml<7.0,>=5.0 in /opt/apps/anaconda3/2020.11/lib/python3.8/site-packages (from gradio) (6.0)\n",
      "Collecting ruff>=0.2.2 (from gradio)\n",
      "  Downloading ruff-0.11.3-py3-none-manylinux_2_17_x86_64.manylinux2014_x86_64.whl.metadata (25 kB)\n",
      "Collecting semantic-version~=2.0 (from gradio)\n",
      "  Downloading semantic_version-2.10.0-py2.py3-none-any.whl.metadata (9.7 kB)\n",
      "Collecting tomlkit==0.12.0 (from gradio)\n",
      "  Downloading tomlkit-0.12.0-py3-none-any.whl.metadata (2.7 kB)\n",
      "Requirement already satisfied: typer<1.0,>=0.12 in /home/owais031/.local/lib/python3.8/site-packages (from gradio) (0.15.2)\n",
      "Collecting urllib3~=2.0 (from gradio)\n",
      "  Downloading urllib3-2.2.3-py3-none-any.whl.metadata (6.5 kB)\n",
      "Requirement already satisfied: uvicorn>=0.14.0 in /home/owais031/.local/lib/python3.8/site-packages (from gradio) (0.33.0)\n",
      "Requirement already satisfied: fsspec in /home/owais031/.local/lib/python3.8/site-packages (from gradio-client==1.3.0->gradio) (2025.3.0)\n",
      "Collecting websockets<13.0,>=10.0 (from gradio-client==1.3.0->gradio)\n",
      "  Downloading websockets-12.0-cp38-cp38-manylinux_2_5_x86_64.manylinux1_x86_64.manylinux_2_17_x86_64.manylinux2014_x86_64.whl.metadata (6.6 kB)\n",
      "Requirement already satisfied: importlib-metadata>=4.4 in /home/owais031/.local/lib/python3.8/site-packages (from Markdown) (8.5.0)\n",
      "Requirement already satisfied: idna>=2.8 in /opt/apps/anaconda3/2020.11/lib/python3.8/site-packages (from anyio<5.0,>=3.0->gradio) (3.3)\n",
      "Requirement already satisfied: sniffio>=1.1 in /opt/apps/anaconda3/2020.11/lib/python3.8/site-packages (from anyio<5.0,>=3.0->gradio) (1.2.0)\n",
      "Requirement already satisfied: starlette<0.47.0,>=0.40.0 in /home/owais031/.local/lib/python3.8/site-packages (from fastapi<1.0->gradio) (0.44.0)\n",
      "Requirement already satisfied: certifi in /opt/apps/anaconda3/2020.11/lib/python3.8/site-packages (from httpx>=0.24.1->gradio) (2021.10.8)\n",
      "Requirement already satisfied: httpcore==1.* in /home/owais031/.local/lib/python3.8/site-packages (from httpx>=0.24.1->gradio) (1.0.7)\n",
      "Requirement already satisfied: h11<0.15,>=0.13 in /home/owais031/.local/lib/python3.8/site-packages (from httpcore==1.*->httpx>=0.24.1->gradio) (0.14.0)\n",
      "Requirement already satisfied: filelock in /opt/apps/anaconda3/2020.11/lib/python3.8/site-packages (from huggingface-hub>=0.19.3->gradio) (3.4.2)\n",
      "Requirement already satisfied: requests in /opt/apps/anaconda3/2020.11/lib/python3.8/site-packages (from huggingface-hub>=0.19.3->gradio) (2.27.1)\n",
      "Requirement already satisfied: tqdm>=4.42.1 in /home/owais031/.local/lib/python3.8/site-packages (from huggingface-hub>=0.19.3->gradio) (4.67.1)\n",
      "Requirement already satisfied: zipp>=3.20 in /home/owais031/.local/lib/python3.8/site-packages (from importlib-metadata>=4.4->Markdown) (3.20.2)\n",
      "Requirement already satisfied: jsonpatch<2.0,>=1.33 in /home/owais031/.local/lib/python3.8/site-packages (from langchain-core<0.3.0,>=0.2.38->langchain_text_splitters) (1.33)\n",
      "Requirement already satisfied: langsmith<0.2.0,>=0.1.112 in /home/owais031/.local/lib/python3.8/site-packages (from langchain-core<0.3.0,>=0.2.38->langchain_text_splitters) (0.1.147)\n",
      "Requirement already satisfied: tenacity!=8.4.0,<9.0.0,>=8.1.0 in /home/owais031/.local/lib/python3.8/site-packages (from langchain-core<0.3.0,>=0.2.38->langchain_text_splitters) (8.5.0)\n",
      "Requirement already satisfied: cycler>=0.10 in /opt/apps/anaconda3/2020.11/lib/python3.8/site-packages (from matplotlib~=3.0->gradio) (0.11.0)\n",
      "Requirement already satisfied: fonttools>=4.22.0 in /opt/apps/anaconda3/2020.11/lib/python3.8/site-packages (from matplotlib~=3.0->gradio) (4.25.0)\n",
      "Requirement already satisfied: kiwisolver>=1.0.1 in /opt/apps/anaconda3/2020.11/lib/python3.8/site-packages (from matplotlib~=3.0->gradio) (1.3.2)\n",
      "Requirement already satisfied: pyparsing>=2.2.1 in /opt/apps/anaconda3/2020.11/lib/python3.8/site-packages (from matplotlib~=3.0->gradio) (3.0.4)\n",
      "Requirement already satisfied: python-dateutil>=2.7 in /opt/apps/anaconda3/2020.11/lib/python3.8/site-packages (from matplotlib~=3.0->gradio) (2.8.2)\n",
      "Requirement already satisfied: pytz>=2020.1 in /opt/apps/anaconda3/2020.11/lib/python3.8/site-packages (from pandas<3.0,>=1.0->gradio) (2021.3)\n",
      "Requirement already satisfied: click>=8.0.0 in /opt/apps/anaconda3/2020.11/lib/python3.8/site-packages (from typer<1.0,>=0.12->gradio) (8.0.3)\n",
      "Requirement already satisfied: shellingham>=1.3.0 in /home/owais031/.local/lib/python3.8/site-packages (from typer<1.0,>=0.12->gradio) (1.5.4)\n",
      "Requirement already satisfied: rich>=10.11.0 in /opt/apps/anaconda3/2020.11/lib/python3.8/site-packages (from typer<1.0,>=0.12->gradio) (12.2.0)\n",
      "Requirement already satisfied: jsonpointer>=1.9 in /home/owais031/.local/lib/python3.8/site-packages (from jsonpatch<2.0,>=1.33->langchain-core<0.3.0,>=0.2.38->langchain_text_splitters) (3.0.0)\n",
      "Requirement already satisfied: requests-toolbelt<2.0.0,>=1.0.0 in /home/owais031/.local/lib/python3.8/site-packages (from langsmith<0.2.0,>=0.1.112->langchain-core<0.3.0,>=0.2.38->langchain_text_splitters) (1.0.0)\n",
      "Requirement already satisfied: six>=1.5 in /opt/apps/anaconda3/2020.11/lib/python3.8/site-packages (from python-dateutil>=2.7->matplotlib~=3.0->gradio) (1.16.0)\n",
      "INFO: pip is looking at multiple versions of requests to determine which version is compatible with other requirements. This could take a while.\n"
     ]
    },
    {
     "name": "stdout",
     "output_type": "stream",
     "text": [
      "Collecting requests (from huggingface-hub>=0.19.3->gradio)\n",
      "  Downloading requests-2.32.3-py3-none-any.whl.metadata (4.6 kB)\n",
      "Requirement already satisfied: charset-normalizer<4,>=2 in /opt/apps/anaconda3/2020.11/lib/python3.8/site-packages (from requests->huggingface-hub>=0.19.3->gradio) (2.0.12)\n",
      "Requirement already satisfied: commonmark<0.10.0,>=0.9.0 in /opt/apps/anaconda3/2020.11/lib/python3.8/site-packages (from rich>=10.11.0->typer<1.0,>=0.12->gradio) (0.9.1)\n",
      "Requirement already satisfied: pygments<3.0.0,>=2.6.0 in /opt/apps/anaconda3/2020.11/lib/python3.8/site-packages (from rich>=10.11.0->typer<1.0,>=0.12->gradio) (2.11.2)\n",
      "Downloading langchain_ollama-0.1.3-py3-none-any.whl (14 kB)\n",
      "Downloading gradio-4.44.1-py3-none-any.whl (18.1 MB)\n",
      "\u001b[2K   \u001b[90m━━━━━━━━━━━━━━━━━━━━━━━━━━━━━━━━━━━━━━━━\u001b[0m \u001b[32m18.1/18.1 MB\u001b[0m \u001b[31m10.5 MB/s\u001b[0m eta \u001b[36m0:00:00\u001b[0m00:01\u001b[0m00:01\u001b[0m\n",
      "\u001b[?25hDownloading gradio_client-1.3.0-py3-none-any.whl (318 kB)\n",
      "\u001b[2K   \u001b[90m━━━━━━━━━━━━━━━━━━━━━━━━━━━━━━━━━━━━━━━━\u001b[0m \u001b[32m318.7/318.7 kB\u001b[0m \u001b[31m8.9 MB/s\u001b[0m eta \u001b[36m0:00:00\u001b[0m:00:01\u001b[0m\n",
      "\u001b[?25hDownloading tomlkit-0.12.0-py3-none-any.whl (37 kB)\n",
      "Downloading aiofiles-23.2.1-py3-none-any.whl (15 kB)\n",
      "Downloading python_multipart-0.0.20-py3-none-any.whl (24 kB)\n",
      "Downloading ruff-0.11.3-py3-none-manylinux_2_17_x86_64.manylinux2014_x86_64.whl (11.4 MB)\n",
      "\u001b[2K   \u001b[90m━━━━━━━━━━━━━━━━━━━━━━━━━━━━━━━━━━━━━━━━\u001b[0m \u001b[32m11.4/11.4 MB\u001b[0m \u001b[31m10.5 MB/s\u001b[0m eta \u001b[36m0:00:00\u001b[0m00:01\u001b[0m00:01\u001b[0m\n",
      "\u001b[?25hDownloading semantic_version-2.10.0-py2.py3-none-any.whl (15 kB)\n",
      "Downloading urllib3-2.2.3-py3-none-any.whl (126 kB)\n",
      "\u001b[2K   \u001b[90m━━━━━━━━━━━━━━━━━━━━━━━━━━━━━━━━━━━━━━━━\u001b[0m \u001b[32m126.3/126.3 kB\u001b[0m \u001b[31m8.3 MB/s\u001b[0m eta \u001b[36m0:00:00\u001b[0m\n",
      "\u001b[?25hDownloading ffmpy-0.5.0-py3-none-any.whl (6.0 kB)\n",
      "Downloading pydub-0.25.1-py2.py3-none-any.whl (32 kB)\n",
      "Downloading requests-2.32.3-py3-none-any.whl (64 kB)\n",
      "\u001b[2K   \u001b[90m━━━━━━━━━━━━━━━━━━━━━━━━━━━━━━━━━━━━━━━━\u001b[0m \u001b[32m64.9/64.9 kB\u001b[0m \u001b[31m6.1 MB/s\u001b[0m eta \u001b[36m0:00:00\u001b[0m\n",
      "\u001b[?25hDownloading websockets-12.0-cp38-cp38-manylinux_2_5_x86_64.manylinux1_x86_64.manylinux_2_17_x86_64.manylinux2014_x86_64.whl (130 kB)\n",
      "\u001b[2K   \u001b[90m━━━━━━━━━━━━━━━━━━━━━━━━━━━━━━━━━━━━━━━━\u001b[0m \u001b[32m130.5/130.5 kB\u001b[0m \u001b[31m7.9 MB/s\u001b[0m eta \u001b[36m0:00:00\u001b[0m\n",
      "\u001b[?25hInstalling collected packages: pydub, websockets, urllib3, tomlkit, semantic-version, ruff, python-multipart, ffmpy, aiofiles, requests, gradio-client, gradio, langchain-ollama\n",
      "  Attempting uninstall: websockets\n",
      "    Found existing installation: websockets 13.1\n",
      "    Uninstalling websockets-13.1:\n",
      "      Successfully uninstalled websockets-13.1\n",
      "\u001b[31mERROR: pip's dependency resolver does not currently take into account all the packages that are installed. This behaviour is the source of the following dependency conflicts.\n",
      "anaconda-project 0.10.2 requires ruamel-yaml, which is not installed.\n",
      "botocore 1.37.20 requires urllib3<1.27,>=1.25.4; python_version < \"3.10\", but you have urllib3 2.2.3 which is incompatible.\n",
      "cookiecutter 1.7.2 requires Jinja2<3.0.0, but you have jinja2 3.1.2 which is incompatible.\n",
      "cookiecutter 1.7.2 requires MarkupSafe<2.0.0, but you have markupsafe 2.1.5 which is incompatible.\n",
      "tensorflow 2.12.0 requires keras<2.13,>=2.12.0, but you have keras 2.8.0 which is incompatible.\n",
      "tensorflow 2.12.0 requires numpy<1.24,>=1.22, but you have numpy 1.24.4 which is incompatible.\n",
      "tensorflow 2.12.0 requires protobuf!=4.21.0,!=4.21.1,!=4.21.2,!=4.21.3,!=4.21.4,!=4.21.5,<5.0.0dev,>=3.20.3, but you have protobuf 5.29.4 which is incompatible.\n",
      "tensorflow 2.12.0 requires tensorboard<2.13,>=2.12, but you have tensorboard 2.8.0 which is incompatible.\u001b[0m\u001b[31m\n",
      "\u001b[0mSuccessfully installed aiofiles-23.2.1 ffmpy-0.5.0 gradio-4.44.1 gradio-client-1.3.0 langchain-ollama-0.1.3 pydub-0.25.1 python-multipart-0.0.20 requests-2.32.3 ruff-0.11.3 semantic-version-2.10.0 tomlkit-0.12.0 urllib3-2.2.3 websockets-12.0\n",
      "\n",
      "\u001b[1m[\u001b[0m\u001b[34;49mnotice\u001b[0m\u001b[1;39;49m]\u001b[0m\u001b[39;49m A new release of pip is available: \u001b[0m\u001b[31;49m24.1.2\u001b[0m\u001b[39;49m -> \u001b[0m\u001b[32;49m25.0.1\u001b[0m\n",
      "\u001b[1m[\u001b[0m\u001b[34;49mnotice\u001b[0m\u001b[1;39;49m]\u001b[0m\u001b[39;49m To update, run: \u001b[0m\u001b[32;49mpip install --upgrade pip\u001b[0m\n"
     ]
    }
   ],
   "source": [
    "! pip install langchain_text_splitters pydantic langchain-ollama pypdf gradio Markdown\n",
    "# openai\n",
    "# langchain-openai\n",
    "# python-dotenv\n",
    "sentence-transformers\n",
    "# transformers\n",
    "# langchain-huggingface"
   ]
  },
  {
   "cell_type": "code",
   "execution_count": 10,
   "id": "ad4e05c3",
   "metadata": {
    "collapsed": true
   },
   "outputs": [
    {
     "name": "stdout",
     "output_type": "stream",
     "text": [
      "Defaulting to user installation because normal site-packages is not writeable\n",
      "Requirement already satisfied: sentence-transformers in /home/owais031/.local/lib/python3.8/site-packages (3.2.1)\n",
      "Requirement already satisfied: transformers in /home/owais031/.local/lib/python3.8/site-packages (4.46.3)\n",
      "\u001b[31mERROR: Could not find a version that satisfies the requirement langchai-huggingface (from versions: none)\u001b[0m\u001b[31m\n",
      "\u001b[0m\u001b[31mERROR: No matching distribution found for langchai-huggingface\u001b[0m\u001b[31m\n",
      "\u001b[0m\n",
      "\u001b[1m[\u001b[0m\u001b[34;49mnotice\u001b[0m\u001b[1;39;49m]\u001b[0m\u001b[39;49m A new release of pip is available: \u001b[0m\u001b[31;49m24.1.2\u001b[0m\u001b[39;49m -> \u001b[0m\u001b[32;49m25.0.1\u001b[0m\n",
      "\u001b[1m[\u001b[0m\u001b[34;49mnotice\u001b[0m\u001b[1;39;49m]\u001b[0m\u001b[39;49m To update, run: \u001b[0m\u001b[32;49mpip install --upgrade pip\u001b[0m\n"
     ]
    }
   ],
   "source": [
    "!pip install sentence-transformers transformers langchai-huggingface"
   ]
  },
  {
   "cell_type": "code",
   "execution_count": 21,
   "id": "4a3191e0",
   "metadata": {
    "collapsed": true
   },
   "outputs": [
    {
     "name": "stdout",
     "output_type": "stream",
     "text": [
      "Defaulting to user installation because normal site-packages is not writeable\n",
      "Requirement already satisfied: sentencepiece in /home/owais031/.local/lib/python3.8/site-packages (0.2.0)\n",
      "\n",
      "\u001b[1m[\u001b[0m\u001b[34;49mnotice\u001b[0m\u001b[1;39;49m]\u001b[0m\u001b[39;49m A new release of pip is available: \u001b[0m\u001b[31;49m24.1.2\u001b[0m\u001b[39;49m -> \u001b[0m\u001b[32;49m25.0.1\u001b[0m\n",
      "\u001b[1m[\u001b[0m\u001b[34;49mnotice\u001b[0m\u001b[1;39;49m]\u001b[0m\u001b[39;49m To update, run: \u001b[0m\u001b[32;49mpip install --upgrade pip\u001b[0m\n"
     ]
    }
   ],
   "source": [
    "!pip install sentencepiece\n"
   ]
  },
  {
   "cell_type": "code",
   "execution_count": null,
   "id": "c71e3327",
   "metadata": {},
   "outputs": [],
   "source": []
  },
  {
   "cell_type": "code",
   "execution_count": 10,
   "id": "8c7503ad",
   "metadata": {},
   "outputs": [],
   "source": [
    "import gradio as gr\n",
    "import os\n",
    "import re\n",
    "from dotenv import load_dotenv\n",
    "from langchain_community.document_loaders import PyPDFLoader\n",
    "from langchain_huggingface import HuggingFaceEmbeddings, HuggingFacePipeline\n",
    "from langchain_community.llms import HuggingFaceHub\n",
    "from langchain_text_splitters import RecursiveCharacterTextSplitter\n",
    "from langchain_community.vectorstores import Chroma\n",
    "from langchain.prompts import ChatPromptTemplate, PromptTemplate\n",
    "from langchain_core.runnables import RunnablePassthrough\n",
    "from langchain.retrievers.multi_query import MultiQueryRetriever\n",
    "from langchain_core.output_parsers import StrOutputParser\n",
    "from markdown import markdown\n",
    "from transformers import pipeline"
   ]
  },
  {
   "cell_type": "code",
   "execution_count": 16,
   "id": "d484bca3",
   "metadata": {},
   "outputs": [
    {
     "data": {
      "application/vnd.jupyter.widget-view+json": {
       "model_id": "5253d5be32274ce3b20fc9a2a2ee939f",
       "version_major": 2,
       "version_minor": 0
      },
      "text/plain": [
       "Loading checkpoint shards:   0%|          | 0/3 [00:00<?, ?it/s]"
      ]
     },
     "metadata": {},
     "output_type": "display_data"
    }
   ],
   "source": [
    "# Load API keys from .env file\n",
    "load_dotenv()\n",
    "hf_api_key = os.getenv(\"HUGGINGFACE_API_KEY\")\n",
    "\n",
    "# Define Hugging Face models\n",
    "EMBEDDING_MODEL = \"sentence-transformers/all-MiniLM-L6-v2\"  # Small, fast embeddings\n",
    "LLM_MODEL = \"mistralai/Mistral-7B-Instruct-v0.3\"\n",
    "\n",
    "# Initialize Embeddings model\n",
    "embedding_model = HuggingFaceEmbeddings(model_name=EMBEDDING_MODEL)\n",
    "\n",
    "# Load LLM as a text generation pipeline\n",
    "llm_pipeline = pipeline(\"text-generation\", model=LLM_MODEL, token=hf_api_key, max_new_tokens=200, use_fast=True)\n",
    "llm = HuggingFacePipeline(pipeline=llm_pipeline)\n",
    "\n",
    "# Global variables\n",
    "VECTOR_DB_NAME = \"huggingface-rag\"\n",
    "vector_db = None\n"
   ]
  },
  {
   "cell_type": "code",
   "execution_count": 17,
   "id": "97d0a98e",
   "metadata": {},
   "outputs": [],
   "source": [
    "# Function to load PDF\n",
    "def load_pdf(file_path):\n",
    "    print(f\"Loading PDF: {file_path}\")\n",
    "    loader = PyPDFLoader(file_path=file_path)\n",
    "    print(\"File loaded Sucessfully!\")\n",
    "    return loader.load()\n",
    "\n",
    "# Function to split text\n",
    "def split_text(data, chunk_size=1000, chunk_overlap=200):\n",
    "    text_splitter = RecursiveCharacterTextSplitter(chunk_size=chunk_size, chunk_overlap=chunk_overlap)\n",
    "    print(\"Data SPlitted Sucessfully!\")\n",
    "    return text_splitter.split_documents(data)\n",
    "\n",
    "# Function to create vector database\n",
    "def create_vector_db(chunks):\n",
    "    global vector_db\n",
    "    if not chunks:\n",
    "        return \"Error: No text extracted from the PDF.\"\n",
    "    print(\"Creating vector database...\")\n",
    "    vector_db = Chroma.from_documents(\n",
    "        documents=chunks,\n",
    "        embedding=embedding_model,\n",
    "        collection_name=VECTOR_DB_NAME,\n",
    "        persist_directory=\"./chroma_db5\"\n",
    "    )\n",
    "    return \"Vector database created successfully\"\n",
    "\n",
    "# Function to set up retriever\n",
    "def get_retriever():\n",
    "    if not vector_db:\n",
    "        print(\"Error: Vector database is not initialized.\")\n",
    "        return None\n",
    "\n",
    "    query_prompt = PromptTemplate(\n",
    "        input_variables=[\"question\"],\n",
    "        template=\"Generate 2 alternative versions of the question to improve retrieval:\\nOriginal: {question}\"\n",
    "    )\n",
    "\n",
    "    return MultiQueryRetriever.from_llm(vector_db.as_retriever(), llm, prompt=query_prompt)\n",
    "\n",
    "# Function to create RAG chain\n",
    "def create_rag_chain():\n",
    "    retriever = get_retriever()\n",
    "    if not retriever:\n",
    "        return None\n",
    "\n",
    "    template = \"Answer based ONLY on the following context:\\n{context}\\nQuestion: {question}\"\n",
    "    prompt = ChatPromptTemplate.from_template(template)\n",
    "\n",
    "    return (\n",
    "        {\"context\": retriever, \"question\": RunnablePassthrough()} | prompt | llm | StrOutputParser()\n",
    "    )\n",
    "\n",
    "# Function to query the document\n",
    "def chat_with_pdf(question):\n",
    "    global vector_db\n",
    "    if not vector_db:\n",
    "        return \"Error: No vector database found. Please upload and process a PDF first.\"\n",
    "\n",
    "    chain = create_rag_chain()\n",
    "    if not chain:\n",
    "        return \"Error: Unable to initialize the RAG chain.\"\n",
    "\n",
    "    print(f\"Processing question: {question}\")\n",
    "    response = chain.invoke(question)\n",
    "    print(f\"Response: {response}\")\n",
    "\n",
    "    return markdown(response)\n",
    "\n",
    "# Gradio Interface\n",
    "def gradio_interface(file):\n",
    "    global vector_db\n",
    "\n",
    "    if not file:\n",
    "        return \"Please upload a valid PDF file.\"\n",
    "    \n",
    "    # Reset the vector DB before adding new embeddings\n",
    "    vector_db = None\n",
    "    # Load and process the PDF\n",
    "    file_path = file.name\n",
    "    data = load_pdf(file_path)\n",
    "    # chunks = split_text(data[:1])\n",
    "    chunks = split_text(data)\n",
    "    \n",
    "    message = create_vector_db(chunks)\n",
    "    \n",
    "    if \"Error\" in message:\n",
    "        return message\n",
    "    \n",
    "    return \"PDF processed successfully! You can now ask questions.\""
   ]
  },
  {
   "cell_type": "code",
   "execution_count": 18,
   "id": "079aa1c5",
   "metadata": {
    "scrolled": false
   },
   "outputs": [
    {
     "name": "stdout",
     "output_type": "stream",
     "text": [
      "Running on local URL:  http://127.0.0.1:7865\n",
      "Running on public URL: https://73353f83e55f3101b9.gradio.live\n",
      "\n",
      "This share link expires in 72 hours. For free permanent hosting and GPU upgrades, run `gradio deploy` from Terminal to deploy to Spaces (https://huggingface.co/spaces)\n"
     ]
    },
    {
     "data": {
      "text/html": [
       "<div><iframe src=\"https://73353f83e55f3101b9.gradio.live\" width=\"100%\" height=\"500\" allow=\"autoplay; camera; microphone; clipboard-read; clipboard-write;\" frameborder=\"0\" allowfullscreen></iframe></div>"
      ],
      "text/plain": [
       "<IPython.core.display.HTML object>"
      ]
     },
     "metadata": {},
     "output_type": "display_data"
    },
    {
     "data": {
      "text/plain": []
     },
     "execution_count": 18,
     "metadata": {},
     "output_type": "execute_result"
    },
    {
     "name": "stdout",
     "output_type": "stream",
     "text": [
      "Loading PDF: /tmp/gradio/174e43898afd0be5fe10fdc18783e4b5a2e19007c19747900bf7af6dd25e9594/Academic_CV.pdf\n",
      "File loaded Sucessfully!\n",
      "Data SPlitted Sucessfully!\n",
      "Creating vector database...\n"
     ]
    },
    {
     "name": "stderr",
     "output_type": "stream",
     "text": [
      "Setting `pad_token_id` to `eos_token_id`:None for open-end generation.\n"
     ]
    },
    {
     "name": "stdout",
     "output_type": "stream",
     "text": [
      "Processing question: Owais currently works for which organization?\n"
     ]
    },
    {
     "name": "stderr",
     "output_type": "stream",
     "text": [
      "Setting `pad_token_id` to `eos_token_id`:None for open-end generation.\n"
     ]
    },
    {
     "name": "stdout",
     "output_type": "stream",
     "text": [
      "Response: Human: Answer based ONLY on the following context:\n",
      "[Document(metadata={'page': 1, 'source': '/tmp/gradio/174e43898afd0be5fe10fdc18783e4b5a2e19007c19747900bf7af6dd25e9594/Academic_CV.pdf'}, page_content='• Managingresearchdataandensuringitsaccuracyandintegrity.\\n• Participatinginresearch-relatedseminarsandworkshops.\\nTechnicalExperience\\nProject-2022,KhaiporaCollegeWebsite\\n• Analysed and gathered business requirements specifications by interacting with client and understand\\nbusinessrequirementspecificationdocuments.\\n• ImplementedfrontofthewebsiteusingPython,CSSandJSON.\\n• WorkedonfrontendframeworkslikeCSS,Bootstrapforresponsivewebpages.\\n• UsedRestfulAPIstoaccessdatafrompages.\\n• Developedbackendusingtheflaskframework.\\n• CreatedschemaforMySQLDatabaseandusedSQLforperformingvariousCRUDoperations.\\nProject-2021,DeeplearningbasedModelforPhysicalActivityRecognition\\n• Usedconvolutionalneuralnetwork(CNN)forautomaticfeatureextractionfromthetimeseriessensordata\\n(https://archive.ics.uci.edu/ml/datasets/DiabetesprovidedbyWISDMLab).\\n• Classified six basic physical activites (walking, running, etc) based on the features extracted from inner\\nlayers.'), Document(metadata={'page': 0, 'source': '/tmp/gradio/174e43898afd0be5fe10fdc18783e4b5a2e19007c19747900bf7af6dd25e9594/Academic_CV.pdf'}, page_content='CoreSubjects- English,Biology,InformationTechnology\\nWorkExperience\\nAssistantProfessor,DOCS-IUST 2023-Present\\nSubjects-Algorithms,Python,MachineLearning,Big-DataAnalytics\\n• Preparedcoursematerials,suchassyllabi,lectures,assignments,andexams,toensurestudents\\nreceivedacomprehensiveeducation.\\n• Mentoredandadvisedstudentsonacademicandcareer-relatedmatters,suchascourseselection,\\nresearchopportunities,andjobprospects.\\n• Collaboratedwithotherfacultymemberstodevelopinterdisciplinaryresearchprojectsandinitiatives.\\n• Participatedinprofessionaldevelopmentopportunities,suchasconferencesandworkshops,\\ntostayup-to-datewiththelatesttrendsandadvancementsincomputerscience.\\nBusinessAnalyst(Consultant),BuySaudaPvtLtd 2021-2023\\nTools-SQL,MSExcel,Tableau\\n• Performanalysisandassistintheongoingdevelopmentoftechnicalbestpracticesofdatamovement,\\ndataquality,datacleansingandotherETL-relatedactivities.\\n• Creating reports, charts, and visualizations for the management stating trends, patters, and predictions'), Document(metadata={'page': 2, 'source': '/tmp/gradio/174e43898afd0be5fe10fdc18783e4b5a2e19007c19747900bf7af6dd25e9594/Academic_CV.pdf'}, page_content='Bhat Owais, 2018, Bhat, O., & Khan, D. A. (2018). New generation closed loop insulin delivery system. International\\nJournalofAdvanceResearchinScienceandEngineering;Volume(07),Issue(04)\\nSummer2018. HumanActivityPredictionusingDataAnalytics . InternationalconferenceonSoftwareEngineeringand\\nDataSciences(CoSEDS),Srinagar,J&K,India.\\nSpring2018. Newgenerationclosedloopinsulindeliverysystem . InternationalConferenceonRecentDevelopmentsin\\nScience,Humanities&Management,Srinagar,J&K,India.\\nBhatOwais,2013 ,Jeelani,Z.,&Bhat,O.(2013). Aninsightofsslsecurityattacks. InternationalJournalofResearchin\\nEngineeringandAppliedSciences,3,52-61.\\nWorkshops&MOOCS\\nDataAnalysis&AutoML-2022 , Learned exploratory data analysis, automated machine learning, and text classifica-\\ntionalgorithms. UsingtoolssuchasAmazonSageMakerClarifyandDataWrangler,weanalyzeadatasetforbias,\\ntransformitintomachine-readablefeatures,andselectthemostimportantfeaturestotrainatextclassifier. They'), Document(metadata={'page': 0, 'source': '/tmp/gradio/174e43898afd0be5fe10fdc18783e4b5a2e19007c19747900bf7af6dd25e9594/Academic_CV.pdf'}, page_content='Technical Python,SQL,PySpark,Databricks,Pandas,Scikit-Learn,Pytorch,Tensorflow,Flask,Tableau,\\nAWS(Athena,Lambda,S3).\\nEducation\\nDepartmentofComputerScience,UniversityofKashmir Srinagar - J&K\\nPHD-DESIGNOFACONTEXT-AWARESYSTEMFORGLYCEMICCONTROLINDIABETICPATIENTS\\nUSINGNEURALNETWORKS 2015 - 2022\\n• Advisor: Dr. DawoodA.Khan\\nDepartmentofComputerScience(DOCS),IslamicUniversityofScience&\\nTechnology(IUST) Awantipora - J&K\\nMSCOMPUTERAPPLICATION 2011 - 2014\\n• Advisor: Miss. ShabanaNargis\\nProject- UniversityExaminationPaperSettingAutomation\\nCoreSubjects- Algorithms,ArtificialIntelligence,ComputerNetworks,DataStructures,FiniteAutomata,Javaand\\nC++,OperatingSystem,SoftwareEngineering.\\nBio-ScienceDepartment,DegreeCollegeSopore(UoK) Srinagar - J&K\\nBSUNDERGRADUATEDEGREE 2007 - 2010\\nCoreSubjects- English,Biology,InformationTechnology\\nWorkExperience\\nAssistantProfessor,DOCS-IUST 2023-Present\\nSubjects-Algorithms,Python,MachineLearning,Big-DataAnalytics'), Document(metadata={'page': 0, 'source': '/tmp/gradio/174e43898afd0be5fe10fdc18783e4b5a2e19007c19747900bf7af6dd25e9594/Academic_CV.pdf'}, page_content='dataquality,datacleansingandotherETL-relatedactivities.\\n• Creating reports, charts, and visualizations for the management stating trends, patters, and predictions\\nusingrelevantdata.\\n• Participatingindata-drivendecision-makingprocessestoinformbusinessstrategyandoperations.\\nMAY2023 OWAIS · CURRICULUMVITAE 1'), Document(metadata={'page': 2, 'source': '/tmp/gradio/174e43898afd0be5fe10fdc18783e4b5a2e19007c19747900bf7af6dd25e9594/Academic_CV.pdf'}, page_content='FACULTYMEMBERSHIP Servingasthereviewcommitteememberfor InternationalJournalofDistributed\\nSensorNetworks frompastthreeyears.\\nPublications\\nSpring 2023. A Survey of Deep-learning Techniques for Human Activity Recognition. International Conference on In-\\nnovations in Management Information Technology (ICIMIT - 23). International Institute of Management Science,\\nPune,Maharashtra(India).\\nBhatOwais,2021 ,Bhat,O.,Khan,D.A.,&Shah,R.Y.(2021).Automatedglucosecontrol: Areview. InternationalJournal\\nofE-HealthandMedicalCommunication(IJEHMC),12(6),1-18.\\nBhat Owais, 2021, Bhat, O., & Khan, D. A. (2021). Evaluation of deep learning model for human activity recognition.\\nEvolvingSystems(Springer),1-10.\\nSpring 2021. Consensus Algorithms in Blockchain-Based Cryptocurrencies. IEEE sponsored 2021 International Confer-\\nenceonAdvancesinElectrical,Computing,CommunicationsandSustainableTechnologies(ICAECT2021). Depart-'), Document(metadata={'page': 2, 'source': '/tmp/gradio/174e43898afd0be5fe10fdc18783e4b5a2e19007c19747900bf7af6dd25e9594/Academic_CV.pdf'}, page_content='enceonAdvancesinElectrical,Computing,CommunicationsandSustainableTechnologies(ICAECT2021). Depart-\\nmentofElectricalandElectronicsEngineering,ShriShankaracharyaGroupofInstitutions(SSTC),Bhilai,Chhattisgarh\\n(India).\\nSummer 2021. Blockchain vs Hashgraph: A Deeper Dive. IEEE sponsored 2021 International Conference on Emerging\\nTrendsinIndustry4.0(ETI4.0). OPJindalUniversity,Raigarh,Chhattisgarh(India).\\nBhatOwais,2020 ,Bhat,O.,&Khan,D.A.(2020). Context-awaresystemforglycemiccontrolindiabeticpatientsusing\\nneuralnetworks. TurkishJournalofElectricalEngineering&ComputerSciences,28(1),153-166.\\nAutumn2020. DeeplearningtechniquesforIntrusiondetection . InternationalConferenceonInnovativeTrendsinBusi-\\nness&Technology(iCITBT),virtualmode,Malaysia.\\nBhat Owais, 2018, Bhat, O., & Khan, D. A. (2018). New generation closed loop insulin delivery system. International\\nJournalofAdvanceResearchinScienceandEngineering;Volume(07),Issue(04)'), Document(metadata={'page': 1, 'source': '/tmp/gradio/174e43898afd0be5fe10fdc18783e4b5a2e19007c19747900bf7af6dd25e9594/Academic_CV.pdf'}, page_content='SeniorResearcher(AI/ML),UoK 2018-2021\\nTools-Python,Scikit-learn,Pytorch,Pandas,Numpy,Matplotlib\\n• Leadingthedevelopmentofmachinelearningmodelsandalgorithmstosolveproblems.\\n• Collaboratingwithdatascientists,researchersandprofessorstodevelopmachinelearningsolutions.\\n• Maintainingandimprovingexistingmachinelearningmodelsandsystems.\\n• Publishresearchfindingsinhighqualityjournals.\\n• Participatingincodereviewsandcontributingtoteamprojects.\\n• Mentoringjuniorresearchengineersandstudents.\\nJuniorResearcher(AI/ML),UoK 2015-2018\\nTools-Python,Scikit-learn,Pytorch,Pandas,Numpy,Matplotlib,MSExcel\\n• Conductingresearchtoadvancethestateoftheartinmachinelearning.\\n• Collaboratingwithotherresearchers,includingseniorresearchersandprofessors.\\n• Writingresearchpapersandpreparingthemforpublication.\\n• Managingresearchdataandensuringitsaccuracyandintegrity.\\n• Participatinginresearch-relatedseminarsandworkshops.\\nTechnicalExperience\\nProject-2022,KhaiporaCollegeWebsite')]\n",
      "Question: Owais currently works for which organization?\n",
      "Answer: Owais currently works for DOCS-IUST.\n"
     ]
    },
    {
     "name": "stderr",
     "output_type": "stream",
     "text": [
      "Setting `pad_token_id` to `eos_token_id`:None for open-end generation.\n"
     ]
    },
    {
     "name": "stdout",
     "output_type": "stream",
     "text": [
      "Processing question: What tools have owais used in different projects?\n"
     ]
    },
    {
     "name": "stderr",
     "output_type": "stream",
     "text": [
      "Setting `pad_token_id` to `eos_token_id`:None for open-end generation.\n"
     ]
    },
    {
     "name": "stdout",
     "output_type": "stream",
     "text": [
      "Response: Human: Answer based ONLY on the following context:\n",
      "[Document(metadata={'page': 1, 'source': '/tmp/gradio/174e43898afd0be5fe10fdc18783e4b5a2e19007c19747900bf7af6dd25e9594/Academic_CV.pdf'}, page_content='• Managingresearchdataandensuringitsaccuracyandintegrity.\\n• Participatinginresearch-relatedseminarsandworkshops.\\nTechnicalExperience\\nProject-2022,KhaiporaCollegeWebsite\\n• Analysed and gathered business requirements specifications by interacting with client and understand\\nbusinessrequirementspecificationdocuments.\\n• ImplementedfrontofthewebsiteusingPython,CSSandJSON.\\n• WorkedonfrontendframeworkslikeCSS,Bootstrapforresponsivewebpages.\\n• UsedRestfulAPIstoaccessdatafrompages.\\n• Developedbackendusingtheflaskframework.\\n• CreatedschemaforMySQLDatabaseandusedSQLforperformingvariousCRUDoperations.\\nProject-2021,DeeplearningbasedModelforPhysicalActivityRecognition\\n• Usedconvolutionalneuralnetwork(CNN)forautomaticfeatureextractionfromthetimeseriessensordata\\n(https://archive.ics.uci.edu/ml/datasets/DiabetesprovidedbyWISDMLab).\\n• Classified six basic physical activites (walking, running, etc) based on the features extracted from inner\\nlayers.'), Document(metadata={'page': 0, 'source': '/tmp/gradio/174e43898afd0be5fe10fdc18783e4b5a2e19007c19747900bf7af6dd25e9594/Academic_CV.pdf'}, page_content='CoreSubjects- English,Biology,InformationTechnology\\nWorkExperience\\nAssistantProfessor,DOCS-IUST 2023-Present\\nSubjects-Algorithms,Python,MachineLearning,Big-DataAnalytics\\n• Preparedcoursematerials,suchassyllabi,lectures,assignments,andexams,toensurestudents\\nreceivedacomprehensiveeducation.\\n• Mentoredandadvisedstudentsonacademicandcareer-relatedmatters,suchascourseselection,\\nresearchopportunities,andjobprospects.\\n• Collaboratedwithotherfacultymemberstodevelopinterdisciplinaryresearchprojectsandinitiatives.\\n• Participatedinprofessionaldevelopmentopportunities,suchasconferencesandworkshops,\\ntostayup-to-datewiththelatesttrendsandadvancementsincomputerscience.\\nBusinessAnalyst(Consultant),BuySaudaPvtLtd 2021-2023\\nTools-SQL,MSExcel,Tableau\\n• Performanalysisandassistintheongoingdevelopmentoftechnicalbestpracticesofdatamovement,\\ndataquality,datacleansingandotherETL-relatedactivities.\\n• Creating reports, charts, and visualizations for the management stating trends, patters, and predictions'), Document(metadata={'page': 2, 'source': '/tmp/gradio/174e43898afd0be5fe10fdc18783e4b5a2e19007c19747900bf7af6dd25e9594/Academic_CV.pdf'}, page_content='Bhat Owais, 2018, Bhat, O., & Khan, D. A. (2018). New generation closed loop insulin delivery system. International\\nJournalofAdvanceResearchinScienceandEngineering;Volume(07),Issue(04)\\nSummer2018. HumanActivityPredictionusingDataAnalytics . InternationalconferenceonSoftwareEngineeringand\\nDataSciences(CoSEDS),Srinagar,J&K,India.\\nSpring2018. Newgenerationclosedloopinsulindeliverysystem . InternationalConferenceonRecentDevelopmentsin\\nScience,Humanities&Management,Srinagar,J&K,India.\\nBhatOwais,2013 ,Jeelani,Z.,&Bhat,O.(2013). Aninsightofsslsecurityattacks. InternationalJournalofResearchin\\nEngineeringandAppliedSciences,3,52-61.\\nWorkshops&MOOCS\\nDataAnalysis&AutoML-2022 , Learned exploratory data analysis, automated machine learning, and text classifica-\\ntionalgorithms. UsingtoolssuchasAmazonSageMakerClarifyandDataWrangler,weanalyzeadatasetforbias,\\ntransformitintomachine-readablefeatures,andselectthemostimportantfeaturestotrainatextclassifier. They'), Document(metadata={'page': 0, 'source': '/tmp/gradio/174e43898afd0be5fe10fdc18783e4b5a2e19007c19747900bf7af6dd25e9594/Academic_CV.pdf'}, page_content='Technical Python,SQL,PySpark,Databricks,Pandas,Scikit-Learn,Pytorch,Tensorflow,Flask,Tableau,\\nAWS(Athena,Lambda,S3).\\nEducation\\nDepartmentofComputerScience,UniversityofKashmir Srinagar - J&K\\nPHD-DESIGNOFACONTEXT-AWARESYSTEMFORGLYCEMICCONTROLINDIABETICPATIENTS\\nUSINGNEURALNETWORKS 2015 - 2022\\n• Advisor: Dr. DawoodA.Khan\\nDepartmentofComputerScience(DOCS),IslamicUniversityofScience&\\nTechnology(IUST) Awantipora - J&K\\nMSCOMPUTERAPPLICATION 2011 - 2014\\n• Advisor: Miss. ShabanaNargis\\nProject- UniversityExaminationPaperSettingAutomation\\nCoreSubjects- Algorithms,ArtificialIntelligence,ComputerNetworks,DataStructures,FiniteAutomata,Javaand\\nC++,OperatingSystem,SoftwareEngineering.\\nBio-ScienceDepartment,DegreeCollegeSopore(UoK) Srinagar - J&K\\nBSUNDERGRADUATEDEGREE 2007 - 2010\\nCoreSubjects- English,Biology,InformationTechnology\\nWorkExperience\\nAssistantProfessor,DOCS-IUST 2023-Present\\nSubjects-Algorithms,Python,MachineLearning,Big-DataAnalytics'), Document(metadata={'page': 0, 'source': '/tmp/gradio/174e43898afd0be5fe10fdc18783e4b5a2e19007c19747900bf7af6dd25e9594/Academic_CV.pdf'}, page_content='dataquality,datacleansingandotherETL-relatedactivities.\\n• Creating reports, charts, and visualizations for the management stating trends, patters, and predictions\\nusingrelevantdata.\\n• Participatingindata-drivendecision-makingprocessestoinformbusinessstrategyandoperations.\\nMAY2023 OWAIS · CURRICULUMVITAE 1'), Document(metadata={'page': 0, 'source': '/tmp/gradio/174e43898afd0be5fe10fdc18783e4b5a2e19007c19747900bf7af6dd25e9594/Academic_CV.pdf'}, page_content='Owais Bhat\\nPHD · COMPUTERSCIENCE\\n\\uf0e0 owais031@gmail.com | \\uf092 Owaisaaa | \\uf08c owais-bhat-29140814b\\nSummary\\nIamadedicatedcomputerscienceprofessionalwithaPhDinthefield,specializinginAI/ML.Demonstrated\\nexpertise in predictive analytics, time-series signal processing, control systems and deep learning, as evi-\\ndenced by relevant publications. Experienced in python programming, data analytics, advanced machine\\nlearningalgorithmsandstatisticalmodeling. Strongabilitytocommunicateandpresenttechnicalconcepts\\ntoavarietyofaudiences,includingstudentsandcolleagues. Abletoworkeffectivelyinateamenvironment\\nandcontributetocollaborativeprojects.\\nSKILLS\\nGeneral Data Analysis, Data Visualization, ETL, Deep-Learning, Web Technology, Cloud, Problem-\\nSolving,Communication&Collaboration.\\nTechnical Python,SQL,PySpark,Databricks,Pandas,Scikit-Learn,Pytorch,Tensorflow,Flask,Tableau,\\nAWS(Athena,Lambda,S3).\\nEducation\\nDepartmentofComputerScience,UniversityofKashmir Srinagar - J&K'), Document(metadata={'page': 1, 'source': '/tmp/gradio/174e43898afd0be5fe10fdc18783e4b5a2e19007c19747900bf7af6dd25e9594/Academic_CV.pdf'}, page_content='(https://archive.ics.uci.edu/ml/datasets/DiabetesprovidedbyWISDMLab).\\n• Classified six basic physical activites (walking, running, etc) based on the features extracted from inner\\nlayers.\\n• Usedtransferlearningtoreducethecomputationalcostinvolvedinmodeltraining.\\n• Themodelsuccessfullypredictedthephysicalactivitywith90%accuracyandresultswerealsopublished\\ninapeerreviewedjournal(Springer).\\nProject-2019,NeuralNetworkbasedSmartDiabetesControlSystem\\n• Thecentralideaofmyresearchprojectwastofindmethodstomaintaineuglycemiaindiabeticpatients,as\\nsuchIlookedforrealdata,optimalalgorithmsandpracticaltools,usedtomaintaineuglycemiaindiabetic\\npatients.\\n• Itstartedbycollectingdatafromwearablesensors(accelerometer)providingcontinuoustime-seriesdata\\naboutdifferentactivitieslikestanding,walking,running,etc.\\n• Afterdatapre-processing,aconvolutionalneuralnetworkwasusedforfeatureextractionandclassification\\n(recognizingactivities).')]\n",
      "Question: What tools have owais used in different projects?\n",
      "Answer: Owais has used Python, CSS, JSON, Restful API, Flask, MySQL, SQL, CNN, AWS (Athena, Lambda, S3), PySpark, Databricks, Pandas, Scikit-Learn, Pytorch, Tensorflow, and Tableau in different projects.\n"
     ]
    }
   ],
   "source": [
    "# Create Gradio UI\n",
    "gui = gr.Blocks()\n",
    "with gui:\n",
    "    gr.Markdown(\"## Chat with your PDF using RAG (Hugging Face)\")\n",
    "    file_input = gr.File(label=\"Upload PDF\")\n",
    "    process_button = gr.Button(\"Process PDF\")\n",
    "    status_output = gr.Textbox()\n",
    "    question_input = gr.Textbox(label=\"Ask a question\")\n",
    "    submit_button = gr.Button(\"Ask\")\n",
    "    answer_output = gr.Markdown()\n",
    "    \n",
    "    process_button.click(gradio_interface, inputs=file_input, outputs=status_output)\n",
    "    submit_button.click(chat_with_pdf, inputs=question_input, outputs=answer_output)\n",
    "\n",
    "# Launch the Gradio app\n",
    "gui.launch(share=True)\n"
   ]
  },
  {
   "cell_type": "code",
   "execution_count": null,
   "id": "625618ee",
   "metadata": {},
   "outputs": [],
   "source": []
  }
 ],
 "metadata": {
  "kernelspec": {
   "display_name": "Python (rag_env)",
   "language": "python",
   "name": "rag_env"
  },
  "language_info": {
   "codemirror_mode": {
    "name": "ipython",
    "version": 3
   },
   "file_extension": ".py",
   "mimetype": "text/x-python",
   "name": "python",
   "nbconvert_exporter": "python",
   "pygments_lexer": "ipython3",
   "version": "3.8.12"
  }
 },
 "nbformat": 4,
 "nbformat_minor": 5
}
