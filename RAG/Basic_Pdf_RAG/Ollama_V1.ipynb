{
 "cells": [
  {
   "cell_type": "code",
   "execution_count": null,
   "id": "d28b0c2b",
   "metadata": {},
   "outputs": [],
   "source": [
    "import ollama\n",
    "!OLLAMA_ACCELERATE=1"
   ]
  },
  {
   "cell_type": "code",
   "execution_count": null,
   "id": "7a87b831",
   "metadata": {},
   "outputs": [],
   "source": [
    "ollama.pull(\"llama3.2\")"
   ]
  },
  {
   "cell_type": "code",
   "execution_count": null,
   "id": "97441a13",
   "metadata": {},
   "outputs": [],
   "source": []
  },
  {
   "cell_type": "code",
   "execution_count": 3,
   "id": "da24b865",
   "metadata": {},
   "outputs": [],
   "source": [
    "import gradio as gr\n",
    "from langchain_community.document_loaders import PyPDFLoader\n",
    "from langchain_ollama import OllamaEmbeddings\n",
    "from langchain_text_splitters import RecursiveCharacterTextSplitter\n",
    "from langchain_community.vectorstores import Chroma\n",
    "from langchain_ollama.chat_models import ChatOllama\n",
    "from langchain.prompts import PromptTemplate, ChatPromptTemplate\n",
    "from langchain_core.runnables import RunnablePassthrough\n",
    "from langchain.retrievers.multi_query import MultiQueryRetriever\n",
    "from langchain_core.output_parsers import StrOutputParser\n",
    "from markdown import markdown"
   ]
  },
  {
   "cell_type": "code",
   "execution_count": 4,
   "id": "aadfae85",
   "metadata": {},
   "outputs": [],
   "source": [
    "# Global variables\n",
    "VECTOR_DB_NAME = \"local-rag\"\n",
    "local_model = \"llama3.2\"\n",
    "llm = ChatOllama(model=local_model)\n",
    "vector_db = None"
   ]
  },
  {
   "cell_type": "code",
   "execution_count": 5,
   "id": "325b6ec5",
   "metadata": {},
   "outputs": [],
   "source": [
    "# Function to load PDF\n",
    "def load_pdf(file_path):\n",
    "    try:\n",
    "        loader = PyPDFLoader(file_path=file_path)\n",
    "        return loader.load()\n",
    "    except Exception as e:\n",
    "        print(f\"PDF Load Error: {e}\")\n",
    "        return []\n",
    "#     loader = PyPDFLoader(file_path=file_path)\n",
    "#     return loader.load()\n",
    "    \n",
    "\n",
    "# Function to split text\n",
    "def split_text(data, chunk_size=1000, chunk_overlap=200):\n",
    "    text_splitter = RecursiveCharacterTextSplitter(chunk_size=chunk_size, chunk_overlap=chunk_overlap)\n",
    "    return text_splitter.split_documents(data)\n",
    "\n",
    "# Function to create vector database\n",
    "def create_vector_db(chunks):\n",
    "    global vector_db\n",
    "    vector_db = Chroma.from_documents(\n",
    "        documents=chunks,\n",
    "        embedding=OllamaEmbeddings(model=\"nomic-embed-text\"),\n",
    "        collection_name=VECTOR_DB_NAME,\n",
    "        persist_directory=\"./chroma_db2\"  # Use a directory to persist embeddings\n",
    "#       persist_directory=None  # Set to None for in-memory storage\n",
    "    )\n",
    "    return \"Vector database created successfully\"\n",
    "\n",
    "# Function to set up retriever\n",
    "def get_retriever():\n",
    "    query_prompt = PromptTemplate(\n",
    "        input_variables=[\"question\"],\n",
    "        template=\"\"\"You are an AI language model assistant. Generate 2 different versions of the given user question to retrieve relevant documents from a vector database. Provide these alternative questions separated by newlines. Original question: {question}\"\"\",\n",
    "    )\n",
    "    return MultiQueryRetriever.from_llm(vector_db.as_retriever(), llm, prompt=query_prompt)\n",
    "\n",
    "# Function to create RAG chain\n",
    "def create_rag_chain():\n",
    "    retriever = get_retriever()\n",
    "    template = \"\"\"Answer the question based ONLY on the following context:\\n{context}\\nQuestion: {question}\"\"\"\n",
    "    prompt = ChatPromptTemplate.from_template(template)\n",
    "    return (\n",
    "        {\"context\": retriever, \"question\": RunnablePassthrough()} | prompt | llm | StrOutputParser()\n",
    "    )\n",
    "\n",
    "# Function to query the document\n",
    "def chat_with_pdf(question):\n",
    "    if not vector_db:\n",
    "        return \"Error: No vector database found. Please upload and process a PDF first.\"\n",
    "    chain = create_rag_chain()\n",
    "    response = chain.invoke(question)\n",
    "    return markdown(response)"
   ]
  },
  {
   "cell_type": "code",
   "execution_count": 1,
   "id": "c5338ffa",
   "metadata": {},
   "outputs": [],
   "source": [
    "# from typing import Dict, Any\n",
    "\n",
    "# def system_context() -> Dict[str, Any]:  # ✅ This works in Python 3.8\n"
   ]
  },
  {
   "cell_type": "code",
   "execution_count": null,
   "id": "914af6ac",
   "metadata": {},
   "outputs": [],
   "source": [
    "! python -v"
   ]
  },
  {
   "cell_type": "code",
   "execution_count": null,
   "id": "a8365451",
   "metadata": {},
   "outputs": [
    {
     "name": "stdout",
     "output_type": "stream",
     "text": [
      "Running on local URL:  http://127.0.0.1:7860\n",
      "Running on public URL: https://b368f953808b5f4bca.gradio.live\n",
      "\n",
      "This share link expires in 72 hours. For free permanent hosting and GPU upgrades, run `gradio deploy` from Terminal to deploy to Spaces (https://huggingface.co/spaces)\n"
     ]
    },
    {
     "data": {
      "text/html": [
       "<div><iframe src=\"https://b368f953808b5f4bca.gradio.live\" width=\"100%\" height=\"500\" allow=\"autoplay; camera; microphone; clipboard-read; clipboard-write;\" frameborder=\"0\" allowfullscreen></iframe></div>"
      ],
      "text/plain": [
       "<IPython.core.display.HTML object>"
      ]
     },
     "metadata": {},
     "output_type": "display_data"
    }
   ],
   "source": [
    "# Gradio Interface\n",
    "def gradio_interface(file):\n",
    "    file_path = file.name\n",
    "    data = load_pdf(file_path)\n",
    "    chunks = split_text(data[:2])\n",
    "    create_vector_db(chunks)\n",
    "    return \"PDF processed successfully. You can now ask questions.\"\n",
    "\n",
    "gui = gr.Blocks()\n",
    "with gui:\n",
    "    gr.Markdown(\"## Chat with your PDF using RAG\")\n",
    "    file_input = gr.File(label=\"Upload PDF\")\n",
    "    process_button = gr.Button(\"Process PDF\")\n",
    "    status_output = gr.Textbox()\n",
    "    question_input = gr.Textbox(label=\"Ask a question\")\n",
    "    submit_button = gr.Button(\"Ask\")\n",
    "    answer_output = gr.Markdown()\n",
    "    \n",
    "    process_button.click(gradio_interface, inputs=file_input, outputs=status_output)\n",
    "    submit_button.click(chat_with_pdf, inputs=question_input, outputs=answer_output)\n",
    "\n",
    "gui.launch(share=True, debug=True)"
   ]
  },
  {
   "cell_type": "code",
   "execution_count": null,
   "id": "2079ff54",
   "metadata": {},
   "outputs": [],
   "source": []
  }
 ],
 "metadata": {
  "kernelspec": {
   "display_name": "Python (rag_env)",
   "language": "python",
   "name": "rag_env"
  },
  "language_info": {
   "codemirror_mode": {
    "name": "ipython",
    "version": 3
   },
   "file_extension": ".py",
   "mimetype": "text/x-python",
   "name": "python",
   "nbconvert_exporter": "python",
   "pygments_lexer": "ipython3",
   "version": "3.8.12"
  }
 },
 "nbformat": 4,
 "nbformat_minor": 5
}
